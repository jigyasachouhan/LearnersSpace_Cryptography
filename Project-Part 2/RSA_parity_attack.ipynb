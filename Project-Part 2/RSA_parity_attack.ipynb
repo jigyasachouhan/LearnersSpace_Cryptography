{
  "nbformat": 4,
  "nbformat_minor": 0,
  "metadata": {
    "colab": {
      "provenance": []
    },
    "kernelspec": {
      "name": "python3",
      "display_name": "Python 3"
    },
    "language_info": {
      "name": "python"
    }
  },
  "cells": [
    {
      "cell_type": "code",
      "source": [
        "! pip install pycryptodome"
      ],
      "metadata": {
        "colab": {
          "base_uri": "https://localhost:8080/"
        },
        "id": "xirP1KEErjtz",
        "outputId": "d700eb48-61be-4301-fe97-9f63d8ac87f8"
      },
      "execution_count": 2,
      "outputs": [
        {
          "output_type": "stream",
          "name": "stdout",
          "text": [
            "Collecting pycryptodome\n",
            "  Downloading pycryptodome-3.20.0-cp35-abi3-manylinux_2_17_x86_64.manylinux2014_x86_64.whl.metadata (3.4 kB)\n",
            "Downloading pycryptodome-3.20.0-cp35-abi3-manylinux_2_17_x86_64.manylinux2014_x86_64.whl (2.1 MB)\n",
            "\u001b[?25l   \u001b[90m━━━━━━━━━━━━━━━━━━━━━━━━━━━━━━━━━━━━━━━━\u001b[0m \u001b[32m0.0/2.1 MB\u001b[0m \u001b[31m?\u001b[0m eta \u001b[36m-:--:--\u001b[0m\r\u001b[2K   \u001b[91m━━━━━━\u001b[0m\u001b[90m╺\u001b[0m\u001b[90m━━━━━━━━━━━━━━━━━━━━━━━━━━━━━━━━━\u001b[0m \u001b[32m0.3/2.1 MB\u001b[0m \u001b[31m11.4 MB/s\u001b[0m eta \u001b[36m0:00:01\u001b[0m\r\u001b[2K   \u001b[91m━━━━━━━━━━━━━━━━━━━━━━━━━━━━━━━━━━━━━━━\u001b[0m\u001b[91m╸\u001b[0m \u001b[32m2.1/2.1 MB\u001b[0m \u001b[31m38.1 MB/s\u001b[0m eta \u001b[36m0:00:01\u001b[0m\r\u001b[2K   \u001b[90m━━━━━━━━━━━━━━━━━━━━━━━━━━━━━━━━━━━━━━━━\u001b[0m \u001b[32m2.1/2.1 MB\u001b[0m \u001b[31m25.6 MB/s\u001b[0m eta \u001b[36m0:00:00\u001b[0m\n",
            "\u001b[?25hInstalling collected packages: pycryptodome\n",
            "Successfully installed pycryptodome-3.20.0\n"
          ]
        }
      ]
    },
    {
      "cell_type": "code",
      "source": [
        "! pip install Crypto"
      ],
      "metadata": {
        "colab": {
          "base_uri": "https://localhost:8080/"
        },
        "id": "8X2OmP6-sTeG",
        "outputId": "42844223-e7f9-450e-896c-1255be47c4fb"
      },
      "execution_count": 3,
      "outputs": [
        {
          "output_type": "stream",
          "name": "stdout",
          "text": [
            "Collecting Crypto\n",
            "  Downloading crypto-1.4.1-py2.py3-none-any.whl.metadata (3.4 kB)\n",
            "Collecting Naked (from Crypto)\n",
            "  Downloading Naked-0.1.32-py2.py3-none-any.whl.metadata (931 bytes)\n",
            "Collecting shellescape (from Crypto)\n",
            "  Downloading shellescape-3.8.1-py2.py3-none-any.whl.metadata (2.8 kB)\n",
            "Requirement already satisfied: requests in /usr/local/lib/python3.10/dist-packages (from Naked->Crypto) (2.31.0)\n",
            "Requirement already satisfied: pyyaml in /usr/local/lib/python3.10/dist-packages (from Naked->Crypto) (6.0.1)\n",
            "Requirement already satisfied: charset-normalizer<4,>=2 in /usr/local/lib/python3.10/dist-packages (from requests->Naked->Crypto) (3.3.2)\n",
            "Requirement already satisfied: idna<4,>=2.5 in /usr/local/lib/python3.10/dist-packages (from requests->Naked->Crypto) (3.7)\n",
            "Requirement already satisfied: urllib3<3,>=1.21.1 in /usr/local/lib/python3.10/dist-packages (from requests->Naked->Crypto) (2.0.7)\n",
            "Requirement already satisfied: certifi>=2017.4.17 in /usr/local/lib/python3.10/dist-packages (from requests->Naked->Crypto) (2024.7.4)\n",
            "Downloading crypto-1.4.1-py2.py3-none-any.whl (18 kB)\n",
            "Downloading Naked-0.1.32-py2.py3-none-any.whl (587 kB)\n",
            "\u001b[2K   \u001b[90m━━━━━━━━━━━━━━━━━━━━━━━━━━━━━━━━━━━━━━━━\u001b[0m \u001b[32m587.7/587.7 kB\u001b[0m \u001b[31m9.4 MB/s\u001b[0m eta \u001b[36m0:00:00\u001b[0m\n",
            "\u001b[?25hDownloading shellescape-3.8.1-py2.py3-none-any.whl (3.1 kB)\n",
            "Installing collected packages: shellescape, Naked, Crypto\n",
            "Successfully installed Crypto-1.4.1 Naked-0.1.32 shellescape-3.8.1\n"
          ]
        }
      ]
    },
    {
      "cell_type": "code",
      "execution_count": 4,
      "metadata": {
        "colab": {
          "base_uri": "https://localhost:8080/"
        },
        "id": "SMM2_-N4qCuy",
        "outputId": "831f4178-9ea1-4505-a20a-83c91defe955"
      },
      "outputs": [
        {
          "output_type": "stream",
          "name": "stdout",
          "text": [
            "Enter the message: jigyasachouhan\n",
            "Encrypted message is:  10577724835682171644832978333803918189287884891569085384279987352894801411312383388813928764019502771731395590398400457716381716341552352193830367706894469317542833079258110836859970443184482871466866820633783634931001474178402373117667617620151784536430833461695719980290924337671004276820028695088572199809481025371142230970567083649702752915954750089349175017346436238272773028875912649527608003623575118180932237321980778931028243760747761298903057419133566412097209071359452029216250960976542088848889346869823750752022694305095150714435454350537714546934358574240388098169644239558236541065078412656114079796249\n",
            "Obtained plaintext:  b'jigyasachouhan'\n"
          ]
        }
      ],
      "source": [
        "# import the necessary libraries here\n",
        "import Crypto\n",
        "from Crypto.Random import random\n",
        "import Crypto.Random\n",
        "import Crypto.Util\n",
        "from Crypto.Util.number import bytes_to_long, long_to_bytes\n",
        "import random\n",
        "\n",
        "import Crypto.Util.number\n",
        "\n",
        "\n",
        "def modular_inv(a,b):\n",
        "    x = 1\n",
        "    y = 0\n",
        "    x1 = 0\n",
        "    y1 = 1\n",
        "    a1 = a\n",
        "    b1 = b\n",
        "\n",
        "    while b1!=0:\n",
        "        q = a1//b1\n",
        "        (x,x1) = (x1, x - q*x1)\n",
        "        (y,y1) = (y1, y - q*y1)\n",
        "        (a1,b1) = (b1, a1 - q*b1)\n",
        "    return x,y\n",
        "\n",
        "\n",
        "class RSA:\n",
        "    \"\"\"Implements the RSA public key encryption / decryption.\"\"\"\n",
        "\n",
        "    def __init__(self, key_length):\n",
        "        # generate public and private keys here\n",
        "        self.p = Crypto.Util.number.getPrime(key_length)\n",
        "        self.q = Crypto.Util.number.getPrime(key_length)\n",
        "        self.n = self.p * self.q\n",
        "        self.phi = (self.p - 1) * (self.q - 1)\n",
        "\n",
        "        extra_bits = random.randint(1,key_length-1)\n",
        "        self.e = Crypto.Util.number.getPrime(key_length+extra_bits)\n",
        "        # If e has more bits than p,q and e is prime then it is coprime with (p-1)(q-1)\n",
        "        self.d = (modular_inv( self.phi , self.e)[1]) % self.phi\n",
        "\n",
        "\n",
        "    def encrypt(self, binary_data):\n",
        "        # return encryption of binary_data here\n",
        "        return pow(bytes_to_long(binary_data), self.e, self.n)\n",
        "\n",
        "\n",
        "    def decrypt(self, encrypted_int_data):\n",
        "        # return decryption of encrypted_binary_data here\n",
        "        return long_to_bytes(pow(encrypted_int_data, self.d, self.n)).decode()\n",
        "\n",
        "\n",
        "class RSAParityOracle(RSA):\n",
        "    \"\"\"Extends the RSA class by adding a method to verify the parity of data.\"\"\"\n",
        "\n",
        "    def is_parity_odd(self, encrypted_int_data):\n",
        "        # Decrypt the input data and return whether the resulting number is odd\n",
        "        if pow(encrypted_int_data, self.d, self.n) % 2 == 1:\n",
        "          return True\n",
        "        else:\n",
        "          return False\n",
        "\n",
        "\n",
        "def parity_oracle_attack(ciphertext, rsa_parity_oracle):\n",
        "    left = 0\n",
        "    right = rsa_parity_oracle.n - 1\n",
        "    power = pow(2,rsa_parity_oracle.e,rsa_parity_oracle.n)\n",
        "    original_text = ciphertext\n",
        "    while left < right:\n",
        "        mid = (left+right)//2\n",
        "        ciphertext = (ciphertext*power)%rsa_parity_oracle.n\n",
        "        if rsa_parity_oracle.is_parity_odd(ciphertext):\n",
        "            left = mid + 1\n",
        "        else:\n",
        "            right = mid\n",
        "    left = left & (~0xff)\n",
        "    for i in range(0,256):\n",
        "        try:\n",
        "            if (rsa_parity_oracle.encrypt(long_to_bytes(left+i)) == original_text): # Encryption key is visible to all so\n",
        "                return long_to_bytes(left+i)\n",
        "        except UnicodeDecodeError:\n",
        "            pass\n",
        "\n",
        "\n",
        "\n",
        "def main():\n",
        "    input_bytes = input(\"Enter the message: \")\n",
        "\n",
        "    # Generate a 1024-bit RSA pair\n",
        "    rsa_parity_oracle = RSAParityOracle(1024)\n",
        "\n",
        "    # Encrypt the message\n",
        "    ciphertext = rsa_parity_oracle.encrypt(input_bytes.encode())\n",
        "    print(\"Encrypted message is: \",ciphertext)\n",
        "    # print(\"Decrypted text is: \",rsa_parity_oracle.decrypt(ciphertext))\n",
        "\n",
        "    # Check if the attack works\n",
        "    plaintext = parity_oracle_attack(ciphertext, rsa_parity_oracle)\n",
        "    print(\"Obtained plaintext: \",plaintext)\n",
        "    assert plaintext == input_bytes.encode()\n",
        "\n",
        "\n",
        "if __name__ == '__main__':\n",
        "    main()"
      ]
    }
  ]
}